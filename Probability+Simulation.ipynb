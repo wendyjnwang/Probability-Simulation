{
 "cells": [
  {
   "cell_type": "code",
   "execution_count": 2,
   "metadata": {
    "scrolled": true
   },
   "outputs": [
    {
     "data": {
      "text/plain": [
       "<matplotlib.legend.Legend at 0x10f8cee80>"
      ]
     },
     "execution_count": 2,
     "metadata": {},
     "output_type": "execute_result"
    },
    {
     "data": {
      "image/png": "[encoded data removed]",
      "text/plain": [
       "<matplotlib.figure.Figure at 0x10f7c3a58>"
      ]
     },
     "metadata": {},
     "output_type": "display_data"
    }
   ],
   "source": [
    "import numpy as np \n",
    "from random import *\n",
    "import matplotlib.pyplot as plt\n",
    "\n",
    "#distances d1,...,dk\n",
    "dList = [3,10,5,7,6]\n",
    "n = sum(dList)\n",
    "#the expected number of steps until the process terminates\n",
    "exp = 1/2*(n**2 - np.sum([i**2 for i in dList]))\n",
    "           \n",
    "selected = []\n",
    "countList = []\n",
    "runs = 10000\n",
    "\n",
    "for x in range(1,runs+1):\n",
    "    # parameter count keeps track of the number of steps \n",
    "    # until the process terminates \n",
    "    count  = 0 \n",
    "    terminated = False \n",
    "    dListCopy = [i for i in dList]\n",
    "    while (not terminated): \n",
    "        count +=1 \n",
    "        #randomly select a particle\n",
    "        select = randint(0,len(dListCopy)-1)\n",
    "        #randomly determine if the particle moves to the left or right\n",
    "        random = randint(0,1)\n",
    "        #If the selected particle moves to the right, \n",
    "        #the distance on its left increases by one \n",
    "        #and the distance on its right decreases by one. \n",
    "        #Vice versa for moving to the left.\n",
    "        if random == 0 : \n",
    "            particleInc = (select-1+len(dListCopy))%(len(dListCopy))\n",
    "            particleDec = (select+len(dListCopy))%(len(dListCopy))\n",
    "        else: \n",
    "            particleDec = (select-1+len(dListCopy))%(len(dListCopy))\n",
    "            particleInc = (select+len(dListCopy))%(len(dListCopy))               \n",
    "        dListCopy[particleInc] = dListCopy[particleInc] +1\n",
    "        dListCopy[particleDec] = dListCopy[particleDec] -1\n",
    "        \n",
    "        #If any distance becomes 0, it is eliminated from the run.\n",
    "        if dListCopy[particleDec] == 0: \n",
    "            dListCopy.remove(0)\n",
    "        #If there becomes only one distance \n",
    "        #it means all particles have merged. Terminate\n",
    "        if (len(dListCopy)==1): \n",
    "            terminated = True \n",
    "    countList.append(count)\n",
    "    \n",
    "#     Print out the average number of steps to reach termination \n",
    "#     every 100 experiments. \n",
    "#     if (x%100 == 0): \n",
    "#         print (\"after %d rounds, average : %f\" %\n",
    "#                (x,np.mean(countList)))\n",
    "\n",
    "numOfRuns=[i for i in range(1,runs+1)]\n",
    "average=[np.mean(countList[0:i]) for i in range(1,runs+1)]\n",
    "baseLine=[exp]*runs\n",
    "\n",
    "%matplotlib inline            \n",
    "plt.plot(numOfRuns,average)\n",
    "plt.plot(numOfRuns,baseLine)\n",
    "plt.legend(['Average number of steps', 'Expectation'], loc='upper right') "
   ]
  },
  {
   "cell_type": "code",
   "execution_count": null,
   "metadata": {
    "collapsed": true
   },
   "outputs": [],
   "source": []
  }
 ],
 "metadata": {
  "kernelspec": {
   "display_name": "Python 3",
   "language": "python",
   "name": "python3"
  },
  "language_info": {
   "codemirror_mode": {
    "name": "ipython",
    "version": 3
   },
   "file_extension": ".py",
   "mimetype": "text/x-python",
   "name": "python",
   "nbconvert_exporter": "python",
   "pygments_lexer": "ipython3",
   "version": "3.6.3"
  }
 },
 "nbformat": 4,
 "nbformat_minor": 2
}
